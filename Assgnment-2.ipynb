{
 "cells": [
  {
   "cell_type": "markdown",
   "id": "ccc2b99b-8a95-4391-a400-11f0b98ec68b",
   "metadata": {},
   "source": [
    "# 1. How do you comment code in Python? What are the different types of comments?\n"
   ]
  },
  {
   "cell_type": "code",
   "execution_count": null,
   "id": "a06c2194-24b9-4a44-b111-6674a4736162",
   "metadata": {},
   "outputs": [],
   "source": [
    "Comments starts with a #, and Python will ignore them.\n",
    "Example-#This is a comment\n",
    "Types:\n",
    "Single line Comment-starts with #\n",
    "Multi line comment- written in a pair of ''' or \"\"\"."
   ]
  },
  {
   "cell_type": "markdown",
   "id": "911645e2-214f-422e-8f31-2c4073520699",
   "metadata": {},
   "source": [
    "# 2. What are variables in Python? How do you declare and assign values to variables?"
   ]
  },
  {
   "cell_type": "code",
   "execution_count": null,
   "id": "38d4cc69-1a47-4986-a635-55e103f8ddfa",
   "metadata": {},
   "outputs": [],
   "source": [
    "Variables are containers for storing data values.\n",
    "\n",
    "Python has no command for declaring a variable.\n",
    "Python is a dynamically-typed language\n",
    "\n",
    "A variable is created the moment you first assign a value to it.\n",
    "Variables do not need to be declared with any particular type, and can even change type after they have been set.\n",
    "\n",
    "Direct Initialisation\n",
    "In this method, we directly declare the variable and assign a value using the = sign. \n",
    "If the variable is declare multiple times, then the last declaration’s value will be used by the program."
   ]
  },
  {
   "cell_type": "markdown",
   "id": "1f6b8342-f0f1-49f8-9432-3074a9c86e28",
   "metadata": {},
   "source": [
    "# 3. How do you convert one data type to another in Python? "
   ]
  },
  {
   "cell_type": "code",
   "execution_count": null,
   "id": "78853fcf-80f4-431c-8c76-87ab28ed5b55",
   "metadata": {},
   "outputs": [],
   "source": [
    "In programming, data type is an important concept.\n",
    "\n",
    "Variables can store data of different types, and different types can do different things.\n",
    "We can get the data type of any object by using the type() function.\n",
    "In Python, the data type is set when you assign a value to a variable.\n",
    "Type conversion is the process of converting one data type to another. There can be two types of type conversion in Python –\n",
    "\n",
    "Implicit Type Conversion:\n",
    "It is a type of type conversion in which handles automatically convert one data type to another without any user involvement.\n",
    "Explicit Type Conversion:\n",
    "In Explicit type conversion, user involvement is required. The user converts one data type to another according to his own need. \n",
    "This can be done with the help of str(), int(), float(), etc. functions."
   ]
  },
  {
   "cell_type": "markdown",
   "id": "bf3c90ad-5163-4be6-958a-453404912ad4",
   "metadata": {},
   "source": [
    "# 4. How do you write and execute a Python script from the command line?"
   ]
  },
  {
   "cell_type": "code",
   "execution_count": null,
   "id": "8a444724-b09e-4636-b385-202191e7061b",
   "metadata": {},
   "outputs": [],
   "source": [
    "Python is a well known high-level programming language. \n",
    "The Python script is basically a file containing code written in Python. \n",
    "The file containing python script has the extension ‘.py’ or can also have the extension ‘.pyw’ if it is being run on a windows machine. To run a python script, we need a python interpreter that needs to be downloaded and installed.\n",
    "\n",
    "Here is a simple python script to print ‘Hello World!’:\n",
    "\n",
    "print('Hello World!')\n",
    "Here, the ‘print()’ function is to print out any text written within the parenthesis.\n",
    "There is more than one way to run a python script but before going toward the different ways to run a python script, we first have to check whether a python interpreter is installed on the system or not. So in windows, open ‘cmd’ (Command Prompt) and type the following command.\n",
    "python -V\n",
    "This command will give the version number of the Python interpreter installed or will display an error if otherwise.\n",
    "\n",
    "\n",
    "Different ways to run Python Script\n",
    "Here are the ways with which we can run a Python script.\n",
    "Interactive Mode\n",
    "Command Line\n",
    "Text Editor (VS Code)\n",
    "IDE (PyCharm)\n"
   ]
  },
  {
   "cell_type": "markdown",
   "id": "a69abf5d-de35-44a2-8772-f922d8b2c29a",
   "metadata": {},
   "source": [
    "# 5. Given a list my_list = [1, 2, 3, 4, 5], write the code to slice the list and obtain the sub-list [2, 3]."
   ]
  },
  {
   "cell_type": "code",
   "execution_count": 1,
   "id": "f876110c-7572-4ef0-b9d3-c3c2c36c3006",
   "metadata": {},
   "outputs": [
    {
     "data": {
      "text/plain": [
       "[2, 3]"
      ]
     },
     "execution_count": 1,
     "metadata": {},
     "output_type": "execute_result"
    }
   ],
   "source": [
    "my_list=[1,2,3,4,5]\n",
    "my_list[1:3]"
   ]
  },
  {
   "cell_type": "markdown",
   "id": "6ebc1aa7-c6d6-4dc9-8704-343cd8eb4145",
   "metadata": {},
   "source": [
    "# 6. What is a complex number in mathematics, and how is it represented in Python?"
   ]
  },
  {
   "cell_type": "code",
   "execution_count": null,
   "id": "a1d236b4-076d-4d16-ab68-05d6c9d26eed",
   "metadata": {},
   "outputs": [],
   "source": [
    "Complex Numbers are the numbers of the form (a + i b) \n",
    "where a & b are the real numbers and i is an imaginary unit called iota that represents √-1. \n",
    "For example, 2 + 3i, is a complex number in which 2 is a real number and 3i is an imaginary number.\n",
    "\n",
    "Complex numbers are written with a \"i\" as the imaginary part in mathematics\n",
    "Complex numbers are written with a \"j\" as the imaginary part in Python.\n",
    "Ex:\n",
    "x = 3+5j\n",
    "y = 5j\n",
    "z = -5j"
   ]
  },
  {
   "cell_type": "markdown",
   "id": "9381fca1-946c-4b65-b590-afda40af9ead",
   "metadata": {},
   "source": [
    "# Q7. What is the correct way to declare a variable named age and assign the value 25 to it?"
   ]
  },
  {
   "cell_type": "code",
   "execution_count": 3,
   "id": "19f6ad35-f1cf-4c21-ad32-9fb5b585477d",
   "metadata": {},
   "outputs": [],
   "source": [
    "age=25\n"
   ]
  },
  {
   "cell_type": "code",
   "execution_count": 4,
   "id": "0f18b922-317f-462c-92c7-9b3804a3168f",
   "metadata": {},
   "outputs": [
    {
     "data": {
      "text/plain": [
       "25"
      ]
     },
     "execution_count": 4,
     "metadata": {},
     "output_type": "execute_result"
    }
   ],
   "source": [
    "age"
   ]
  },
  {
   "cell_type": "markdown",
   "id": "6ae742ed-79b4-46cd-9be0-6327cacb248c",
   "metadata": {},
   "source": [
    "# Q8.Declare a variable named price and assign the value 9.99 to it. What data type does this variable belong to?"
   ]
  },
  {
   "cell_type": "code",
   "execution_count": 5,
   "id": "707d7f04-a90e-4809-9c7f-b75650a28208",
   "metadata": {},
   "outputs": [
    {
     "data": {
      "text/plain": [
       "float"
      ]
     },
     "execution_count": 5,
     "metadata": {},
     "output_type": "execute_result"
    }
   ],
   "source": [
    "price=9.99   # float\n",
    "type(price)"
   ]
  },
  {
   "cell_type": "markdown",
   "id": "82271df5-a3af-499e-b152-950aa17420f4",
   "metadata": {},
   "source": [
    "# Q9.Create a variable named name and assign your full name to it as a string. How would you print the value of this variable?"
   ]
  },
  {
   "cell_type": "code",
   "execution_count": 7,
   "id": "65a9c316-30ee-4c85-ae2d-a8da47b08d4c",
   "metadata": {},
   "outputs": [],
   "source": [
    "name='Rahul Jain'\n"
   ]
  },
  {
   "cell_type": "code",
   "execution_count": 8,
   "id": "f72b1c86-5f82-422b-8823-4d1bdb020c58",
   "metadata": {},
   "outputs": [
    {
     "data": {
      "text/plain": [
       "'Rahul Jain'"
      ]
     },
     "execution_count": 8,
     "metadata": {},
     "output_type": "execute_result"
    }
   ],
   "source": [
    "name"
   ]
  },
  {
   "cell_type": "code",
   "execution_count": 9,
   "id": "aac0a470-e1ac-4d16-bfd2-40fac99ffcb8",
   "metadata": {},
   "outputs": [
    {
     "name": "stdout",
     "output_type": "stream",
     "text": [
      "R\n",
      "a\n",
      "h\n",
      "u\n",
      "l\n",
      " \n",
      "J\n",
      "a\n",
      "i\n",
      "n\n"
     ]
    }
   ],
   "source": [
    "for i in name:\n",
    "    print(i)"
   ]
  },
  {
   "cell_type": "markdown",
   "id": "d535200c-14e1-4f0b-bb40-8caafda42788",
   "metadata": {},
   "source": [
    "# Q10. Given the string \"Hello, World!\", extract the substring \"World\"."
   ]
  },
  {
   "cell_type": "code",
   "execution_count": 10,
   "id": "4ce24bf8-2771-4e4b-9f8f-6c389eeaba42",
   "metadata": {},
   "outputs": [
    {
     "data": {
      "text/plain": [
       "'World'"
      ]
     },
     "execution_count": 10,
     "metadata": {},
     "output_type": "execute_result"
    }
   ],
   "source": [
    "str=\"Hello, World!\"\n",
    "str[7:12]"
   ]
  },
  {
   "cell_type": "markdown",
   "id": "591ef7f2-be09-46fc-8bf9-2a2f50fdbe96",
   "metadata": {},
   "source": [
    "# Q11. Create a variable named \"is_student\" and assign it a boolean value indicating whether you are currently a student or not."
   ]
  },
  {
   "cell_type": "code",
   "execution_count": 11,
   "id": "274bb7b2-41b2-4183-b9c0-13b6fc832f8c",
   "metadata": {},
   "outputs": [],
   "source": [
    "is_student=True\n"
   ]
  },
  {
   "cell_type": "code",
   "execution_count": 12,
   "id": "21a7dfc9-b0e3-42fd-b78d-979a258937f3",
   "metadata": {},
   "outputs": [
    {
     "data": {
      "text/plain": [
       "True"
      ]
     },
     "execution_count": 12,
     "metadata": {},
     "output_type": "execute_result"
    }
   ],
   "source": [
    "is_student"
   ]
  },
  {
   "cell_type": "code",
   "execution_count": 13,
   "id": "d21baea9-affc-4681-8e4d-5d1d04db9060",
   "metadata": {},
   "outputs": [
    {
     "data": {
      "text/plain": [
       "bool"
      ]
     },
     "execution_count": 13,
     "metadata": {},
     "output_type": "execute_result"
    }
   ],
   "source": [
    "type(is_student)"
   ]
  },
  {
   "cell_type": "code",
   "execution_count": null,
   "id": "b8bc1b00-f02d-472c-8d89-dc4c923a4af4",
   "metadata": {},
   "outputs": [],
   "source": [
    "Note: Q11 is not clearly understandable to me as it has multiple meanings.\n",
    "can you provide all solutions of this problem."
   ]
  }
 ],
 "metadata": {
  "kernelspec": {
   "display_name": "Python 3 (ipykernel)",
   "language": "python",
   "name": "python3"
  },
  "language_info": {
   "codemirror_mode": {
    "name": "ipython",
    "version": 3
   },
   "file_extension": ".py",
   "mimetype": "text/x-python",
   "name": "python",
   "nbconvert_exporter": "python",
   "pygments_lexer": "ipython3",
   "version": "3.10.8"
  }
 },
 "nbformat": 4,
 "nbformat_minor": 5
}
